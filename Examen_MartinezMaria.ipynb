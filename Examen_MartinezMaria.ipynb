{
 "cells": [
  {
   "cell_type": "markdown",
   "metadata": {},
   "source": [
    "# Examen Final - Simulación Matemática - P2021.\n",
    "\n",
    "<img style=\"float: right; margin: 0px 0px 15px 15px;\" src=\"https://upload.wikimedia.org/wikipedia/commons/5/5f/RREA_Monte_Carlo_simulation.png\" width=\"600px\" height=\"400px\" />\n",
    "\n",
    "**Resumen.**\n",
    "> Este examen pretende evaluar los conocimientos que hemos adquirido a lo largo del curso.\n",
    "\n",
    "> El examen consta tres ejercicios, relativos a cada uno de los módulos del curso respectivamente:\n",
    "  1. Optimización.\n",
    "  2. Simulación Montecarlo.\n",
    "  3. Ecuaciones diferenciales.\n",
    ">  \n",
    ">  Estos ejercicios deben ser resueltos usando los conceptos de simulación y las herramientas de programación vistos en clase.\n",
    "\n",
    "**Criterio de revisión.**\n",
    "> Cada ejercicio equivale un tercio de la calificación final. Se calificará de acuerdo a los resultados finales que reportes, basados en tu análisis.\n",
    "___"
   ]
  },
  {
   "cell_type": "markdown",
   "metadata": {},
   "source": [
    " <font color='navy'> **Nombres:** <font color='black'> María del Carmen Martínez Hernández.\n",
    "\n",
    " <font color='navy'> **Fecha:** <font color='black'>  28 de noviembre de 2022.\n",
    "\n",
    " <font color='navy'> **Expediente:** <font color='black'> NT729340.\n",
    "    \n",
    " <font color='navy'> **Profesor:** <font color='black'> Oscar David Jaramillo Zuluaga."
   ]
  },
  {
   "cell_type": "markdown",
   "metadata": {},
   "source": [
    "## I. Optimización - Modelando la relación de los peces con su tamaño (34 Puntos)\n",
    "\n",
    "En 1981, 78 peces \"agallas azules\" fueron tomados aleatoriamente del Lake Mary, en Minnesota. Los investigadores (Cook and Weisberg, 1999) midieron y registraron datos de longitud (en mm) y edad (en años) de dichos peces. Esta información se encuentra en el archivo `bluegills_dataset.txt` (datos separados por tabulador).\n",
    "\n",
    "Este archivo se puede cargar en memoria de la siguiente manera, usando pandas:"
   ]
  },
  {
   "cell_type": "code",
   "execution_count": 9,
   "metadata": {},
   "outputs": [],
   "source": [
    "# Importar pandas\n",
    "import pandas as pd"
   ]
  },
  {
   "cell_type": "code",
   "execution_count": 10,
   "metadata": {},
   "outputs": [
    {
     "data": {
      "text/html": [
       "<div>\n",
       "<style scoped>\n",
       "    .dataframe tbody tr th:only-of-type {\n",
       "        vertical-align: middle;\n",
       "    }\n",
       "\n",
       "    .dataframe tbody tr th {\n",
       "        vertical-align: top;\n",
       "    }\n",
       "\n",
       "    .dataframe thead th {\n",
       "        text-align: right;\n",
       "    }\n",
       "</style>\n",
       "<table border=\"1\" class=\"dataframe\">\n",
       "  <thead>\n",
       "    <tr style=\"text-align: right;\">\n",
       "      <th></th>\n",
       "      <th>age</th>\n",
       "      <th>length</th>\n",
       "    </tr>\n",
       "  </thead>\n",
       "  <tbody>\n",
       "    <tr>\n",
       "      <th>0</th>\n",
       "      <td>1</td>\n",
       "      <td>67</td>\n",
       "    </tr>\n",
       "    <tr>\n",
       "      <th>1</th>\n",
       "      <td>1</td>\n",
       "      <td>62</td>\n",
       "    </tr>\n",
       "    <tr>\n",
       "      <th>2</th>\n",
       "      <td>2</td>\n",
       "      <td>109</td>\n",
       "    </tr>\n",
       "    <tr>\n",
       "      <th>3</th>\n",
       "      <td>2</td>\n",
       "      <td>83</td>\n",
       "    </tr>\n",
       "    <tr>\n",
       "      <th>4</th>\n",
       "      <td>2</td>\n",
       "      <td>91</td>\n",
       "    </tr>\n",
       "    <tr>\n",
       "      <th>...</th>\n",
       "      <td>...</td>\n",
       "      <td>...</td>\n",
       "    </tr>\n",
       "    <tr>\n",
       "      <th>73</th>\n",
       "      <td>6</td>\n",
       "      <td>170</td>\n",
       "    </tr>\n",
       "    <tr>\n",
       "      <th>74</th>\n",
       "      <td>4</td>\n",
       "      <td>160</td>\n",
       "    </tr>\n",
       "    <tr>\n",
       "      <th>75</th>\n",
       "      <td>5</td>\n",
       "      <td>180</td>\n",
       "    </tr>\n",
       "    <tr>\n",
       "      <th>76</th>\n",
       "      <td>4</td>\n",
       "      <td>160</td>\n",
       "    </tr>\n",
       "    <tr>\n",
       "      <th>77</th>\n",
       "      <td>4</td>\n",
       "      <td>170</td>\n",
       "    </tr>\n",
       "  </tbody>\n",
       "</table>\n",
       "<p>78 rows × 2 columns</p>\n",
       "</div>"
      ],
      "text/plain": [
       "    age  length\n",
       "0     1      67\n",
       "1     1      62\n",
       "2     2     109\n",
       "3     2      83\n",
       "4     2      91\n",
       "..  ...     ...\n",
       "73    6     170\n",
       "74    4     160\n",
       "75    5     180\n",
       "76    4     160\n",
       "77    4     170\n",
       "\n",
       "[78 rows x 2 columns]"
      ]
     },
     "execution_count": 10,
     "metadata": {},
     "output_type": "execute_result"
    }
   ],
   "source": [
    "# Cargar datos en memoria\n",
    "data = pd.read_csv(\"bluegills_dataset.txt\", sep=\"\\t\")\n",
    "data"
   ]
  },
  {
   "cell_type": "markdown",
   "metadata": {},
   "source": [
    "**Punto 1** (4 puntos) Realizar un gráfico de dispersión de puntos de la edad de los peces (eje x) vs. la longitud de los mismos (eje y). Asegúrese de etiquetar los ejes."
   ]
  },
  {
   "cell_type": "code",
   "execution_count": 11,
   "metadata": {},
   "outputs": [],
   "source": [
    "# Importar el módulo optimize de la librería scipy\n",
    "import scipy.optimize as opt\n",
    "\n",
    "# Importar librería numpy\n",
    "import numpy as np\n",
    "\n",
    "# Importar matplotlib.pyplot\n",
    "import matplotlib.pyplot as plt"
   ]
  },
  {
   "cell_type": "code",
   "execution_count": 12,
   "metadata": {},
   "outputs": [],
   "source": [
    "# Nombrar variables\n",
    "x = data.iloc[:,0]\n",
    "y = data.iloc[:,1]"
   ]
  },
  {
   "cell_type": "code",
   "execution_count": 13,
   "metadata": {},
   "outputs": [],
   "source": [
    "# Preprocesar los datos\n",
    "x_norm = (x-min(x))/(max(x)-min(x))\n",
    "y_norm = (y-min(y))/(max(y)-min(y))"
   ]
  },
  {
   "cell_type": "code",
   "execution_count": 14,
   "metadata": {
    "scrolled": true
   },
   "outputs": [
    {
     "data": {
      "text/plain": [
       "Text(0, 0.5, 'longitud (mm)')"
      ]
     },
     "execution_count": 14,
     "metadata": {},
     "output_type": "execute_result"
    },
    {
     "data": {
      "image/png": "[encoded data removed]",
      "text/plain": [
       "<Figure size 432x288 with 1 Axes>"
      ]
     },
     "metadata": {
      "needs_background": "light"
     },
     "output_type": "display_data"
    }
   ],
   "source": [
    "# Graficar\n",
    "plt.plot(x, y, '*c')\n",
    "\n",
    "# Agregar título y etiquetar ejes\n",
    "plt.title('Peces \"agallas azules\"',fontsize=15)\n",
    "plt.xlabel('edad (años)',fontsize=12)\n",
    "plt.ylabel('longitud (mm)',fontsize=12)"
   ]
  },
  {
   "cell_type": "markdown",
   "metadata": {},
   "source": [
    "**Punto 2** (10 puntos) Ajustar polinomios de grado 1 hasta grado 3, usando un enfoque de ajuste robusto (es decir, usando la función de Huber como función de pérdida)."
   ]
  },
  {
   "cell_type": "code",
   "execution_count": 15,
   "metadata": {},
   "outputs": [],
   "source": [
    "# Definir función objetivo\n",
    "def fun_obj(beta,x,y,n):\n",
    "    yhat = beta.dot([x**i for i in range(n+1)])\n",
    "    error = y-yhat\n",
    "    return np.sum(error**2)"
   ]
  },
  {
   "cell_type": "code",
   "execution_count": 17,
   "metadata": {},
   "outputs": [],
   "source": [
    "# Ajustar polinomio de grado 1\n",
    "b01 = np.zeros(2)    #beta_inicial\n",
    "ajuste1 = opt.minimize(fun_obj, b01, args = (x_norm,y_norm,1))\n",
    "\n",
    "# Ajustar polinomio de grado 2\n",
    "b02 = np.zeros(3)\n",
    "ajuste2 = opt.minimize(fun_obj, b02, args = (x_norm,y_norm,2))\n",
    "\n",
    "# Ajustar polinomio de grado 3\n",
    "b03 = np.zeros(4)\n",
    "ajuste3 = opt.minimize(fun_obj, b03, args = (x_norm,y_norm,3))"
   ]
  },
  {
   "cell_type": "code",
   "execution_count": 18,
   "metadata": {},
   "outputs": [],
   "source": [
    "# Especificar ajustes\n",
    "yhat1 = ajuste1.x.dot([x_norm**i for i in range(2)])*(max(y)-min(y)) + min(y)\n",
    "yhat2 = ajuste2.x.dot([x_norm**i for i in range(3)])*(max(y)-min(y)) + min(y)\n",
    "yhat3 = ajuste3.x.dot([x_norm**i for i in range(4)])*(max(y)-min(y)) + min(y)"
   ]
  },
  {
   "cell_type": "code",
   "execution_count": 19,
   "metadata": {},
   "outputs": [],
   "source": [
    "# Importar matplotlib.pyplot\n",
    "import matplotlib.pyplot as plt"
   ]
  },
  {
   "cell_type": "code",
   "execution_count": 20,
   "metadata": {},
   "outputs": [
    {
     "data": {
      "image/png": "[encoded data removed]",
      "text/plain": [
       "<Figure size 576x432 with 1 Axes>"
      ]
     },
     "metadata": {
      "needs_background": "light"
     },
     "output_type": "display_data"
    }
   ],
   "source": [
    "# Graficar\n",
    "plt.figure(figsize=(8,6))\n",
    "\n",
    "plt.plot(x, y, 'c*', ms=5, label='Datos')\n",
    "plt.plot(x, yhat1, 'g', lw=2, label='Ajuste 1')\n",
    "plt.plot(x, yhat2, 'b', lw=2, label='Ajuste 2')\n",
    "plt.plot(x, yhat3, 'm', lw=2, label='Ajuste 3')\n",
    "\n",
    "plt.title('Ajuste de polinomios',fontsize=15)\n",
    "plt.xlabel('edad (años)',fontsize = 12)\n",
    "plt.ylabel('longitud (mm)',fontsize = 12)\n",
    "\n",
    "plt.grid()\n",
    "plt.legend(loc='best')\n",
    "plt.show()"
   ]
  },
  {
   "cell_type": "markdown",
   "metadata": {},
   "source": [
    "**Punto 3** (5 puntos) Graficar el error cuadrático acumulado contra el número de términos, y elegir un polinomio que ajuste bien y su grado sea el menor posible."
   ]
  },
  {
   "cell_type": "code",
   "execution_count": 21,
   "metadata": {},
   "outputs": [
    {
     "data": {
      "text/plain": [
       "Text(0, 0.5, 'error')"
      ]
     },
     "execution_count": 21,
     "metadata": {},
     "output_type": "execute_result"
    },
    {
     "data": {
      "image/png": "[encoded data removed]",
      "text/plain": [
       "<Figure size 576x432 with 1 Axes>"
      ]
     },
     "metadata": {
      "needs_background": "light"
     },
     "output_type": "display_data"
    }
   ],
   "source": [
    "# Graficar el error\n",
    "error = [ajuste1.fun, ajuste2.fun, ajuste3.fun]\n",
    "plt.figure(figsize=(8,6))\n",
    "plt.plot(range(1,4), error, 'ro-', ms = 4)\n",
    "plt.xlabel('Orden del polinomio', fontsize = 12)\n",
    "plt.ylabel('error', fontsize = 12)"
   ]
  },
  {
   "cell_type": "markdown",
   "metadata": {},
   "source": [
    "**Conclusión :** Según la gráfica anterior, el polinomio que mejor se ajusta es el de 2do orden."
   ]
  },
  {
   "cell_type": "markdown",
   "metadata": {},
   "source": [
    "**Punto 4** (5 puntos) Realizar un gráfico de dispersión de puntos de la edad de los peces (eje x) vs. la longitud de los mismos (eje y). Además, incluir el gráfico del polinomio ajustado elegido en el punto anterior. Asegúrese de etiquetar los ejes y las gráficas."
   ]
  },
  {
   "cell_type": "code",
   "execution_count": 55,
   "metadata": {},
   "outputs": [
    {
     "data": {
      "text/plain": [
       "[<matplotlib.lines.Line2D at 0x219227c7ca0>]"
      ]
     },
     "execution_count": 55,
     "metadata": {},
     "output_type": "execute_result"
    },
    {
     "data": {
      "image/png": "[encoded data removed]",
      "text/plain": [
       "<Figure size 432x288 with 1 Axes>"
      ]
     },
     "metadata": {
      "needs_background": "light"
     },
     "output_type": "display_data"
    }
   ],
   "source": [
    "# Graficar\n",
    "plt.plot(x, y, '*c')\n",
    "\n",
    "# Etiquetar ejes\n",
    "plt.xlabel('edad (años)',fontsize=12)\n",
    "plt.ylabel('longitud (mm)',fontsize=12)\n",
    "\n",
    "# Agregar polinomio de mejor ajuste\n",
    "plt.plot(x, yhat2, 'b', lw=2, label='Ajuste 2')"
   ]
  },
  {
   "cell_type": "markdown",
   "metadata": {},
   "source": [
    "**Punto 5** (10 puntos) Supongamos que vas al Lake Mary de pesca con tu mejor amig@. Después de un par de horas, pescan precisamente un pez agallas azules \"bluegills\", que resulta medir 150 mm. De acuerdo al modelo que elegiste, ¿Cuántos años estimas que tenía el pescado?"
   ]
  },
  {
   "cell_type": "code",
   "execution_count": 84,
   "metadata": {},
   "outputs": [
    {
     "data": {
      "text/plain": [
       "array([ 62.95301791,  62.95301791, 102.84633773, 102.84633773,\n",
       "       102.84633773, 102.84633773, 133.30232738, 133.30232738,\n",
       "       133.30232738, 133.30232738, 133.30232738, 133.30232738,\n",
       "       133.30232738, 133.30232738, 133.30232738, 102.84633773,\n",
       "       133.30232738, 154.32098688, 154.32098688, 154.32098688,\n",
       "       154.32098688, 154.32098688, 154.32098688, 154.32098688,\n",
       "       154.32098688, 154.32098688, 154.32098688, 154.32098688,\n",
       "       154.32098688, 154.32098688, 154.32098688, 154.32098688,\n",
       "       154.32098688, 154.32098688, 154.32098688, 154.32098688,\n",
       "       154.32098688, 165.90231621, 154.32098688, 154.32098688,\n",
       "       154.32098688, 165.90231621, 102.84633773, 102.84633773,\n",
       "       154.32098688, 133.30232738, 154.32098688, 133.30232738,\n",
       "       154.32098688, 154.32098688, 154.32098688, 154.32098688,\n",
       "       133.30232738, 133.30232738, 133.30232738, 154.32098688,\n",
       "       154.32098688, 133.30232738, 154.32098688, 165.90231621,\n",
       "       150.        , 165.90231621, 154.32098688, 154.32098688,\n",
       "       133.30232738, 165.90231621, 165.90231621, 154.32098688,\n",
       "       165.90231621, 133.30232738, 154.32098688, 133.30232738,\n",
       "       154.32098688, 168.04631538, 154.32098688, 165.90231621,\n",
       "       154.32098688, 154.32098688])"
      ]
     },
     "execution_count": 84,
     "metadata": {},
     "output_type": "execute_result"
    }
   ],
   "source": [
    "# Mostrar los datos arrojados por el polinomio de 2do orden\n",
    "yhat2"
   ]
  },
  {
   "cell_type": "code",
   "execution_count": 83,
   "metadata": {},
   "outputs": [
    {
     "data": {
      "text/plain": [
       "150.0"
      ]
     },
     "execution_count": 83,
     "metadata": {},
     "output_type": "execute_result"
    }
   ],
   "source": [
    "# Calcular la edad del pescado\n",
    "yhat2[60] "
   ]
  },
  {
   "cell_type": "markdown",
   "metadata": {},
   "source": [
    "**Conclusión :** De acuerdo con el modelo electo, el pescado tenía 4 años."
   ]
  },
  {
   "cell_type": "markdown",
   "metadata": {},
   "source": [
    "___\n",
    "## II. Simulación Montecarlo - Probabilidad de crecimiento del mercado por encima de su media (33 puntos)"
   ]
  },
  {
   "cell_type": "markdown",
   "metadata": {},
   "source": [
    "El índice Standard & Poor's 500 (Standard & Poor's 500 Index), también conocido como S&P 500, es uno de los índices bursátiles más importantes de Estados Unidos. Al S&P 500 se lo considera el índice más representativo de la situación real del mercado.\n",
    "\n",
    "El índice se basa en la capitalización bursátil de 500 grandes empresas que poseen acciones que cotizan en las bolsas NYSE o NASDAQ, y captura aproximadamente el 80% de toda la capitalización de mercado en Estados Unidos. Los componentes del índice S&P 500 y su ponderación son determinados por S&P Dow Jones Indices. Se diferencia de otros índices de mercados financieros de Estados Unidos, tales como el Dow Jones Industrial Average o el índice Nasdaq Composite, en la diversidad de los rubros que lo conforman y en su metodología de ponderación. Es uno de los índices de valores más seguidos, y muchas personas lo consideran el más representativo del mercado de acciones de Estados Unidos, y el marcador de tendencias de la economía norteamericana. El National Bureau of Economic Research ha clasificado a las acciones comunes como un indicador relevante de los ciclos de negocios.\n",
    "\n",
    "Fuente: https://es.wikipedia.org/wiki/S%26P_500"
   ]
  },
  {
   "cell_type": "markdown",
   "metadata": {},
   "source": [
    "**Punto 1** (5 puntos) Descargar los precios diarios ajustados en el cierre del índice S&P500 (clave de cotización `^GSPC`) desde el primer día de 2010 hasta el día en que realice el examen, usando la función `get_closes` vista en la clase 11. Graficar los precios diarios a través del tiempo."
   ]
  },
  {
   "cell_type": "code",
   "execution_count": 2,
   "metadata": {},
   "outputs": [],
   "source": [
    "# Importar librerías\n",
    "import pandas as pd\n",
    "import pandas_datareader as web\n",
    "import matplotlib.pyplot as plt\n",
    "import numpy as np\n",
    "import pandas_datareader.data as web"
   ]
  },
  {
   "cell_type": "code",
   "execution_count": 3,
   "metadata": {},
   "outputs": [
    {
     "data": {
      "text/plain": [
       "Date\n",
       "2010-01-04    1132.989990\n",
       "2010-01-05    1136.520020\n",
       "2010-01-06    1137.140015\n",
       "2010-01-07    1141.689941\n",
       "2010-01-08    1144.979980\n",
       "                 ...     \n",
       "2022-11-21    3949.939941\n",
       "2022-11-22    4003.580078\n",
       "2022-11-23    4027.260010\n",
       "2022-11-25    4026.120117\n",
       "2022-11-28    3963.939941\n",
       "Name: Adj Close, Length: 3249, dtype: float64"
      ]
     },
     "execution_count": 3,
     "metadata": {},
     "output_type": "execute_result"
    }
   ],
   "source": [
    "data_SP = web.DataReader('^GSPC', 'yahoo', '1/1/2010', '11/28/2022')\n",
    "data_SP['Adj Close']"
   ]
  },
  {
   "cell_type": "code",
   "execution_count": 4,
   "metadata": {},
   "outputs": [],
   "source": [
    "# Escribir una función para generalizar la importación desde Yahoo\n",
    "def get_closes(names, start, end):\n",
    "    data_closes = web.DataReader(names, 'yahoo', start, end)\n",
    "    return data_closes['Adj Close']"
   ]
  },
  {
   "cell_type": "code",
   "execution_count": 5,
   "metadata": {},
   "outputs": [
    {
     "data": {
      "text/plain": [
       "Date\n",
       "2010-01-04    1132.989990\n",
       "2010-01-05    1136.520020\n",
       "2010-01-06    1137.140015\n",
       "2010-01-07    1141.689941\n",
       "2010-01-08    1144.979980\n",
       "                 ...     \n",
       "2022-11-21    3949.939941\n",
       "2022-11-22    4003.580078\n",
       "2022-11-23    4027.260010\n",
       "2022-11-25    4026.120117\n",
       "2022-11-28    3963.939941\n",
       "Name: Adj Close, Length: 3249, dtype: float64"
      ]
     },
     "execution_count": 5,
     "metadata": {},
     "output_type": "execute_result"
    }
   ],
   "source": [
    "# Descargar datos...\n",
    "names = '^GSPC'\n",
    "start = '01/01/2010'\n",
    "end = '11/28/2022'\n",
    "\n",
    "precios = get_closes(names, start, end)\n",
    "precios"
   ]
  },
  {
   "cell_type": "code",
   "execution_count": 26,
   "metadata": {},
   "outputs": [
    {
     "data": {
      "text/plain": [
       "<AxesSubplot:xlabel='Date'>"
      ]
     },
     "execution_count": 26,
     "metadata": {},
     "output_type": "execute_result"
    },
    {
     "data": {
      "image/png": "[encoded data removed]",
      "text/plain": [
       "<Figure size 1080x576 with 1 Axes>"
      ]
     },
     "metadata": {
      "needs_background": "light"
     },
     "output_type": "display_data"
    }
   ],
   "source": [
    "# Graficar\n",
    "precios.plot(figsize=(15,8))"
   ]
  },
  {
   "cell_type": "markdown",
   "metadata": {},
   "source": [
    "**Conclusión :** De manera general, los precios diarios tienden a incrementar a largo plazo."
   ]
  },
  {
   "cell_type": "markdown",
   "metadata": {},
   "source": [
    "**Punto 2.** (5 puntos) A partir de los precios diarios descargados en el punto 1, obtenga los rendimientos diarios, y grafíquelos a través del tiempo."
   ]
  },
  {
   "cell_type": "code",
   "execution_count": 7,
   "metadata": {},
   "outputs": [
    {
     "data": {
      "text/plain": [
       "Date\n",
       "2010-01-04    1132.989990\n",
       "2010-01-05    1136.520020\n",
       "2010-01-06    1137.140015\n",
       "2010-01-07    1141.689941\n",
       "Name: Adj Close, dtype: float64"
      ]
     },
     "execution_count": 7,
     "metadata": {},
     "output_type": "execute_result"
    }
   ],
   "source": [
    "precios.head(4)"
   ]
  },
  {
   "cell_type": "code",
   "execution_count": 8,
   "metadata": {},
   "outputs": [
    {
     "data": {
      "text/plain": [
       "Date\n",
       "2010-01-04            NaN\n",
       "2010-01-05    1132.989990\n",
       "2010-01-06    1136.520020\n",
       "2010-01-07    1137.140015\n",
       "Name: Adj Close, dtype: float64"
      ]
     },
     "execution_count": 8,
     "metadata": {},
     "output_type": "execute_result"
    }
   ],
   "source": [
    "# Implementar el método shift\n",
    "precios.shift().head(4)"
   ]
  },
  {
   "cell_type": "code",
   "execution_count": 11,
   "metadata": {},
   "outputs": [
    {
     "data": {
      "text/plain": [
       "<AxesSubplot:xlabel='Date'>"
      ]
     },
     "execution_count": 11,
     "metadata": {},
     "output_type": "execute_result"
    },
    {
     "data": {
      "image/png": "[encoded data removed]",
      "text/plain": [
       "<Figure size 1080x576 with 1 Axes>"
      ]
     },
     "metadata": {
      "needs_background": "light"
     },
     "output_type": "display_data"
    }
   ],
   "source": [
    "# Calcular los rendimientos\n",
    "precios_rendi = (precios - precios.shift())/precios.shift()\n",
    "\n",
    "precios_rendi.plot(figsize=(15, 8))"
   ]
  },
  {
   "cell_type": "markdown",
   "metadata": {},
   "source": [
    "**Punto 3.** (3 puntos) Obtenga la media y la desviación estándar de los rendimientos diarios calculados en el punto 3."
   ]
  },
  {
   "cell_type": "code",
   "execution_count": 12,
   "metadata": {},
   "outputs": [
    {
     "data": {
      "text/plain": [
       "count    3248.000000\n",
       "mean        0.000449\n",
       "std         0.011208\n",
       "min        -0.119841\n",
       "25%        -0.003812\n",
       "50%         0.000645\n",
       "75%         0.005621\n",
       "max         0.093828\n",
       "Name: Adj Close, dtype: float64"
      ]
     },
     "execution_count": 12,
     "metadata": {},
     "output_type": "execute_result"
    }
   ],
   "source": [
    "precios_rendi.describe()"
   ]
  },
  {
   "cell_type": "code",
   "execution_count": 13,
   "metadata": {},
   "outputs": [
    {
     "data": {
      "text/plain": [
       "0.00044871608325996527"
      ]
     },
     "execution_count": 13,
     "metadata": {},
     "output_type": "execute_result"
    }
   ],
   "source": [
    "# Calcular la media (promedio) y volatilidad de rendimientos\n",
    "precios_rendi.mean() # Promedio de los precios"
   ]
  },
  {
   "cell_type": "code",
   "execution_count": 14,
   "metadata": {},
   "outputs": [
    {
     "data": {
      "text/plain": [
       "0.011208013153440638"
      ]
     },
     "execution_count": 14,
     "metadata": {},
     "output_type": "execute_result"
    }
   ],
   "source": [
    "# Calcular la desviación estándar (volatilidad)\n",
    "precios_rendi.std()   # Desviación estándar de los precios"
   ]
  },
  {
   "cell_type": "markdown",
   "metadata": {},
   "source": [
    "**Punto 4** (5 puntos) Suponiendo que el DataFrame de precios diarios del punto 1 lo llamaste `precios`, la siguiente línea de código obtiene los precios del primer día de cada año:"
   ]
  },
  {
   "cell_type": "code",
   "execution_count": 15,
   "metadata": {},
   "outputs": [
    {
     "data": {
      "text/plain": [
       "Date\n",
       "2010    1132.989990\n",
       "2011    1271.869995\n",
       "2012    1277.060059\n",
       "2013    1462.420044\n",
       "2014    1831.979980\n",
       "2015    2058.199951\n",
       "2016    2012.660034\n",
       "2017    2257.830078\n",
       "2018    2695.810059\n",
       "2019    2510.030029\n",
       "2020    3257.850098\n",
       "2021    3700.649902\n",
       "2022    4796.560059\n",
       "Name: Adj Close, dtype: float64"
      ]
     },
     "execution_count": 15,
     "metadata": {},
     "output_type": "execute_result"
    }
   ],
   "source": [
    "# Obtener precios anuales\n",
    "precios_anuales = precios.groupby(by=lambda x: x.year).agg('first')\n",
    "precios_anuales"
   ]
  },
  {
   "cell_type": "markdown",
   "metadata": {},
   "source": [
    "1. A partir de los precios anuales, obtener los rendimientos anuales (*pista: usar el método `pct_change` sobre los precios anuales*).\n",
    "2. A partir de los rendimientos anuales, obtener el rendimiento medio anual (*pista: usar el método `mean` sobre los rendimientos anuales*)."
   ]
  },
  {
   "cell_type": "markdown",
   "metadata": {},
   "source": [
    "#### Rendimientos anuales calculados a partir de los precios anuales:"
   ]
  },
  {
   "cell_type": "code",
   "execution_count": 16,
   "metadata": {},
   "outputs": [
    {
     "data": {
      "text/plain": [
       "<AxesSubplot:title={'center':'rendimientos simples'}, xlabel='Date'>"
      ]
     },
     "execution_count": 16,
     "metadata": {},
     "output_type": "execute_result"
    },
    {
     "data": {
      "image/png": "[encoded data removed]",
      "text/plain": [
       "<Figure size 1080x576 with 1 Axes>"
      ]
     },
     "metadata": {
      "needs_background": "light"
     },
     "output_type": "display_data"
    }
   ],
   "source": [
    "# Calcular rendimientos diarios y graficarlos\n",
    "rendia = precios_anuales.pct_change()\n",
    "rendia.plot(figsize=(15, 8), title='rendimientos simples')"
   ]
  },
  {
   "cell_type": "markdown",
   "metadata": {},
   "source": [
    "#### Rendimiento medio anual calculado a partir de los rendimientos anuales:"
   ]
  },
  {
   "cell_type": "code",
   "execution_count": 27,
   "metadata": {},
   "outputs": [
    {
     "data": {
      "text/plain": [
       "0.1335616409772618"
      ]
     },
     "execution_count": 27,
     "metadata": {},
     "output_type": "execute_result"
    }
   ],
   "source": [
    "rendia.mean()"
   ]
  },
  {
   "cell_type": "markdown",
   "metadata": {},
   "source": [
    "**Punto 5** (7 puntos) Suponiendo que los rendimientos siguen una distribución normal, simular 10000 de rendimientos para todo un año. A partir de los rendimientos simulados, obtener los precios simulados como vimos en la clase 11."
   ]
  },
  {
   "cell_type": "code",
   "execution_count": 29,
   "metadata": {},
   "outputs": [
    {
     "data": {
      "text/plain": [
       "<AxesSubplot:>"
      ]
     },
     "execution_count": 29,
     "metadata": {},
     "output_type": "execute_result"
    },
    {
     "data": {
      "image/png": "[encoded data removed]",
      "text/plain": [
       "<Figure size 432x216 with 1 Axes>"
      ]
     },
     "metadata": {
      "needs_background": "light"
     },
     "output_type": "display_data"
    }
   ],
   "source": [
    "rendia.hist(bins=50, figsize=(6,3))"
   ]
  },
  {
   "cell_type": "code",
   "execution_count": 30,
   "metadata": {},
   "outputs": [],
   "source": [
    "# Calcular media y desviación estándar\n",
    "mu_GSPC = rendia.mean()\n",
    "\n",
    "std_GSPC = rendia.std()"
   ]
  },
  {
   "cell_type": "code",
   "execution_count": 33,
   "metadata": {},
   "outputs": [
    {
     "data": {
      "image/png": "[encoded data removed]",
      "text/plain": [
       "<Figure size 432x288 with 1 Axes>"
      ]
     },
     "metadata": {
      "needs_background": "light"
     },
     "output_type": "display_data"
    }
   ],
   "source": [
    "N = 10000\n",
    "plt.hist(std_GSPC * np.random.randn(N) + mu_GSPC, bins=50);"
   ]
  },
  {
   "cell_type": "code",
   "execution_count": 34,
   "metadata": {},
   "outputs": [],
   "source": [
    "# Definir función que simula varios escenarios de rendimientos diarios\n",
    "def sim_rend(mu, std, ndays, nscen, start_date):\n",
    "    \n",
    "    # Generar el rango de fechas en las que se realizará la predicción (freq='B' días laborales)\n",
    "    fechas = pd.date_range(start_date, periods=ndays, freq='B')\n",
    "    \n",
    "    # Generar la predicción asumiendo que los rendimientos siguen una distribución normal (gaussiana)\n",
    "    datos = std*np.random.randn(ndays, nscen) + mu\n",
    "    \n",
    "    # Generar un dataframe (tabla) con los resultados\n",
    "    rendimientos_simulados = pd.DataFrame(datos, index=fechas)\n",
    "    \n",
    "    return rendimientos_simulados"
   ]
  },
  {
   "cell_type": "code",
   "execution_count": 35,
   "metadata": {},
   "outputs": [
    {
     "data": {
      "text/html": [
       "<div>\n",
       "<style scoped>\n",
       "    .dataframe tbody tr th:only-of-type {\n",
       "        vertical-align: middle;\n",
       "    }\n",
       "\n",
       "    .dataframe tbody tr th {\n",
       "        vertical-align: top;\n",
       "    }\n",
       "\n",
       "    .dataframe thead th {\n",
       "        text-align: right;\n",
       "    }\n",
       "</style>\n",
       "<table border=\"1\" class=\"dataframe\">\n",
       "  <thead>\n",
       "    <tr style=\"text-align: right;\">\n",
       "      <th></th>\n",
       "      <th>0</th>\n",
       "      <th>1</th>\n",
       "      <th>2</th>\n",
       "      <th>3</th>\n",
       "      <th>4</th>\n",
       "      <th>5</th>\n",
       "      <th>6</th>\n",
       "      <th>7</th>\n",
       "      <th>8</th>\n",
       "      <th>9</th>\n",
       "      <th>...</th>\n",
       "      <th>9990</th>\n",
       "      <th>9991</th>\n",
       "      <th>9992</th>\n",
       "      <th>9993</th>\n",
       "      <th>9994</th>\n",
       "      <th>9995</th>\n",
       "      <th>9996</th>\n",
       "      <th>9997</th>\n",
       "      <th>9998</th>\n",
       "      <th>9999</th>\n",
       "    </tr>\n",
       "  </thead>\n",
       "  <tbody>\n",
       "    <tr>\n",
       "      <th>2010-01-01</th>\n",
       "      <td>0.134442</td>\n",
       "      <td>0.346159</td>\n",
       "      <td>0.194137</td>\n",
       "      <td>-0.127597</td>\n",
       "      <td>0.183224</td>\n",
       "      <td>0.353914</td>\n",
       "      <td>-0.016688</td>\n",
       "      <td>0.377187</td>\n",
       "      <td>0.136871</td>\n",
       "      <td>0.156537</td>\n",
       "      <td>...</td>\n",
       "      <td>-0.025341</td>\n",
       "      <td>0.160116</td>\n",
       "      <td>0.142577</td>\n",
       "      <td>0.113904</td>\n",
       "      <td>-0.005780</td>\n",
       "      <td>0.184152</td>\n",
       "      <td>0.053713</td>\n",
       "      <td>0.068312</td>\n",
       "      <td>0.299998</td>\n",
       "      <td>-0.051990</td>\n",
       "    </tr>\n",
       "    <tr>\n",
       "      <th>2010-01-04</th>\n",
       "      <td>0.051384</td>\n",
       "      <td>0.182402</td>\n",
       "      <td>0.104907</td>\n",
       "      <td>0.116582</td>\n",
       "      <td>0.065960</td>\n",
       "      <td>0.246996</td>\n",
       "      <td>-0.021641</td>\n",
       "      <td>0.136568</td>\n",
       "      <td>0.359839</td>\n",
       "      <td>0.099409</td>\n",
       "      <td>...</td>\n",
       "      <td>0.123697</td>\n",
       "      <td>0.185100</td>\n",
       "      <td>0.044217</td>\n",
       "      <td>0.225358</td>\n",
       "      <td>0.169444</td>\n",
       "      <td>-0.158981</td>\n",
       "      <td>-0.026109</td>\n",
       "      <td>0.217000</td>\n",
       "      <td>-0.145633</td>\n",
       "      <td>0.236530</td>\n",
       "    </tr>\n",
       "    <tr>\n",
       "      <th>2010-01-05</th>\n",
       "      <td>0.206713</td>\n",
       "      <td>0.518647</td>\n",
       "      <td>0.034949</td>\n",
       "      <td>0.202313</td>\n",
       "      <td>0.146271</td>\n",
       "      <td>0.056082</td>\n",
       "      <td>0.359889</td>\n",
       "      <td>-0.030728</td>\n",
       "      <td>0.051924</td>\n",
       "      <td>0.230921</td>\n",
       "      <td>...</td>\n",
       "      <td>-0.149992</td>\n",
       "      <td>0.123036</td>\n",
       "      <td>-0.119105</td>\n",
       "      <td>-0.100436</td>\n",
       "      <td>0.001380</td>\n",
       "      <td>0.060267</td>\n",
       "      <td>-0.051232</td>\n",
       "      <td>0.370765</td>\n",
       "      <td>0.266941</td>\n",
       "      <td>0.182654</td>\n",
       "    </tr>\n",
       "    <tr>\n",
       "      <th>2010-01-06</th>\n",
       "      <td>0.156370</td>\n",
       "      <td>0.102291</td>\n",
       "      <td>0.155904</td>\n",
       "      <td>0.048757</td>\n",
       "      <td>-0.037704</td>\n",
       "      <td>0.283299</td>\n",
       "      <td>0.121485</td>\n",
       "      <td>0.089034</td>\n",
       "      <td>0.013854</td>\n",
       "      <td>0.199420</td>\n",
       "      <td>...</td>\n",
       "      <td>0.320326</td>\n",
       "      <td>-0.022722</td>\n",
       "      <td>0.078631</td>\n",
       "      <td>0.335340</td>\n",
       "      <td>-0.019950</td>\n",
       "      <td>0.126669</td>\n",
       "      <td>-0.098425</td>\n",
       "      <td>0.279694</td>\n",
       "      <td>0.128077</td>\n",
       "      <td>0.132403</td>\n",
       "    </tr>\n",
       "    <tr>\n",
       "      <th>2010-01-07</th>\n",
       "      <td>0.218139</td>\n",
       "      <td>-0.129150</td>\n",
       "      <td>0.425320</td>\n",
       "      <td>0.410023</td>\n",
       "      <td>0.018554</td>\n",
       "      <td>0.223310</td>\n",
       "      <td>0.141115</td>\n",
       "      <td>-0.145417</td>\n",
       "      <td>0.107035</td>\n",
       "      <td>0.048855</td>\n",
       "      <td>...</td>\n",
       "      <td>0.064221</td>\n",
       "      <td>0.175344</td>\n",
       "      <td>0.178924</td>\n",
       "      <td>0.303130</td>\n",
       "      <td>0.259695</td>\n",
       "      <td>0.266651</td>\n",
       "      <td>0.244761</td>\n",
       "      <td>0.181486</td>\n",
       "      <td>0.181580</td>\n",
       "      <td>0.070590</td>\n",
       "    </tr>\n",
       "    <tr>\n",
       "      <th>...</th>\n",
       "      <td>...</td>\n",
       "      <td>...</td>\n",
       "      <td>...</td>\n",
       "      <td>...</td>\n",
       "      <td>...</td>\n",
       "      <td>...</td>\n",
       "      <td>...</td>\n",
       "      <td>...</td>\n",
       "      <td>...</td>\n",
       "      <td>...</td>\n",
       "      <td>...</td>\n",
       "      <td>...</td>\n",
       "      <td>...</td>\n",
       "      <td>...</td>\n",
       "      <td>...</td>\n",
       "      <td>...</td>\n",
       "      <td>...</td>\n",
       "      <td>...</td>\n",
       "      <td>...</td>\n",
       "      <td>...</td>\n",
       "      <td>...</td>\n",
       "    </tr>\n",
       "    <tr>\n",
       "      <th>2011-05-20</th>\n",
       "      <td>0.001225</td>\n",
       "      <td>-0.066980</td>\n",
       "      <td>-0.061051</td>\n",
       "      <td>0.204577</td>\n",
       "      <td>0.219673</td>\n",
       "      <td>0.150581</td>\n",
       "      <td>0.125796</td>\n",
       "      <td>0.024773</td>\n",
       "      <td>0.023442</td>\n",
       "      <td>0.227502</td>\n",
       "      <td>...</td>\n",
       "      <td>0.090062</td>\n",
       "      <td>-0.010604</td>\n",
       "      <td>0.140149</td>\n",
       "      <td>-0.022731</td>\n",
       "      <td>0.046576</td>\n",
       "      <td>0.192424</td>\n",
       "      <td>-0.133434</td>\n",
       "      <td>0.197245</td>\n",
       "      <td>0.095351</td>\n",
       "      <td>0.061193</td>\n",
       "    </tr>\n",
       "    <tr>\n",
       "      <th>2011-05-23</th>\n",
       "      <td>0.188935</td>\n",
       "      <td>0.241294</td>\n",
       "      <td>0.256303</td>\n",
       "      <td>0.162845</td>\n",
       "      <td>0.059737</td>\n",
       "      <td>0.142317</td>\n",
       "      <td>0.276859</td>\n",
       "      <td>0.220023</td>\n",
       "      <td>0.125732</td>\n",
       "      <td>0.380967</td>\n",
       "      <td>...</td>\n",
       "      <td>0.133316</td>\n",
       "      <td>0.005982</td>\n",
       "      <td>0.107193</td>\n",
       "      <td>0.156203</td>\n",
       "      <td>0.008097</td>\n",
       "      <td>0.261830</td>\n",
       "      <td>0.200758</td>\n",
       "      <td>-0.016055</td>\n",
       "      <td>0.267519</td>\n",
       "      <td>-0.157346</td>\n",
       "    </tr>\n",
       "    <tr>\n",
       "      <th>2011-05-24</th>\n",
       "      <td>-0.024007</td>\n",
       "      <td>0.015640</td>\n",
       "      <td>0.009422</td>\n",
       "      <td>0.143776</td>\n",
       "      <td>0.282053</td>\n",
       "      <td>0.060552</td>\n",
       "      <td>0.140370</td>\n",
       "      <td>0.457793</td>\n",
       "      <td>0.047459</td>\n",
       "      <td>0.372550</td>\n",
       "      <td>...</td>\n",
       "      <td>0.113934</td>\n",
       "      <td>0.067584</td>\n",
       "      <td>0.001765</td>\n",
       "      <td>0.128318</td>\n",
       "      <td>0.172328</td>\n",
       "      <td>0.140720</td>\n",
       "      <td>0.271930</td>\n",
       "      <td>0.093119</td>\n",
       "      <td>0.143636</td>\n",
       "      <td>0.005525</td>\n",
       "    </tr>\n",
       "    <tr>\n",
       "      <th>2011-05-25</th>\n",
       "      <td>0.307232</td>\n",
       "      <td>0.002845</td>\n",
       "      <td>0.153428</td>\n",
       "      <td>0.149224</td>\n",
       "      <td>0.130665</td>\n",
       "      <td>0.153248</td>\n",
       "      <td>0.018968</td>\n",
       "      <td>0.256613</td>\n",
       "      <td>0.190420</td>\n",
       "      <td>0.061533</td>\n",
       "      <td>...</td>\n",
       "      <td>-0.043484</td>\n",
       "      <td>0.192463</td>\n",
       "      <td>0.312864</td>\n",
       "      <td>0.026973</td>\n",
       "      <td>0.255904</td>\n",
       "      <td>0.175080</td>\n",
       "      <td>0.040714</td>\n",
       "      <td>0.101405</td>\n",
       "      <td>0.197539</td>\n",
       "      <td>0.242237</td>\n",
       "    </tr>\n",
       "    <tr>\n",
       "      <th>2011-05-26</th>\n",
       "      <td>0.240776</td>\n",
       "      <td>0.236248</td>\n",
       "      <td>0.107273</td>\n",
       "      <td>0.139732</td>\n",
       "      <td>0.121997</td>\n",
       "      <td>0.031390</td>\n",
       "      <td>0.223307</td>\n",
       "      <td>0.221933</td>\n",
       "      <td>0.108341</td>\n",
       "      <td>0.059480</td>\n",
       "      <td>...</td>\n",
       "      <td>0.013126</td>\n",
       "      <td>0.100495</td>\n",
       "      <td>0.040080</td>\n",
       "      <td>0.148261</td>\n",
       "      <td>-0.031762</td>\n",
       "      <td>0.075605</td>\n",
       "      <td>0.239397</td>\n",
       "      <td>0.115184</td>\n",
       "      <td>0.167512</td>\n",
       "      <td>0.159804</td>\n",
       "    </tr>\n",
       "  </tbody>\n",
       "</table>\n",
       "<p>365 rows × 10000 columns</p>\n",
       "</div>"
      ],
      "text/plain": [
       "                0         1         2         3         4         5     \\\n",
       "2010-01-01  0.134442  0.346159  0.194137 -0.127597  0.183224  0.353914   \n",
       "2010-01-04  0.051384  0.182402  0.104907  0.116582  0.065960  0.246996   \n",
       "2010-01-05  0.206713  0.518647  0.034949  0.202313  0.146271  0.056082   \n",
       "2010-01-06  0.156370  0.102291  0.155904  0.048757 -0.037704  0.283299   \n",
       "2010-01-07  0.218139 -0.129150  0.425320  0.410023  0.018554  0.223310   \n",
       "...              ...       ...       ...       ...       ...       ...   \n",
       "2011-05-20  0.001225 -0.066980 -0.061051  0.204577  0.219673  0.150581   \n",
       "2011-05-23  0.188935  0.241294  0.256303  0.162845  0.059737  0.142317   \n",
       "2011-05-24 -0.024007  0.015640  0.009422  0.143776  0.282053  0.060552   \n",
       "2011-05-25  0.307232  0.002845  0.153428  0.149224  0.130665  0.153248   \n",
       "2011-05-26  0.240776  0.236248  0.107273  0.139732  0.121997  0.031390   \n",
       "\n",
       "                6         7         8         9     ...      9990      9991  \\\n",
       "2010-01-01 -0.016688  0.377187  0.136871  0.156537  ... -0.025341  0.160116   \n",
       "2010-01-04 -0.021641  0.136568  0.359839  0.099409  ...  0.123697  0.185100   \n",
       "2010-01-05  0.359889 -0.030728  0.051924  0.230921  ... -0.149992  0.123036   \n",
       "2010-01-06  0.121485  0.089034  0.013854  0.199420  ...  0.320326 -0.022722   \n",
       "2010-01-07  0.141115 -0.145417  0.107035  0.048855  ...  0.064221  0.175344   \n",
       "...              ...       ...       ...       ...  ...       ...       ...   \n",
       "2011-05-20  0.125796  0.024773  0.023442  0.227502  ...  0.090062 -0.010604   \n",
       "2011-05-23  0.276859  0.220023  0.125732  0.380967  ...  0.133316  0.005982   \n",
       "2011-05-24  0.140370  0.457793  0.047459  0.372550  ...  0.113934  0.067584   \n",
       "2011-05-25  0.018968  0.256613  0.190420  0.061533  ... -0.043484  0.192463   \n",
       "2011-05-26  0.223307  0.221933  0.108341  0.059480  ...  0.013126  0.100495   \n",
       "\n",
       "                9992      9993      9994      9995      9996      9997  \\\n",
       "2010-01-01  0.142577  0.113904 -0.005780  0.184152  0.053713  0.068312   \n",
       "2010-01-04  0.044217  0.225358  0.169444 -0.158981 -0.026109  0.217000   \n",
       "2010-01-05 -0.119105 -0.100436  0.001380  0.060267 -0.051232  0.370765   \n",
       "2010-01-06  0.078631  0.335340 -0.019950  0.126669 -0.098425  0.279694   \n",
       "2010-01-07  0.178924  0.303130  0.259695  0.266651  0.244761  0.181486   \n",
       "...              ...       ...       ...       ...       ...       ...   \n",
       "2011-05-20  0.140149 -0.022731  0.046576  0.192424 -0.133434  0.197245   \n",
       "2011-05-23  0.107193  0.156203  0.008097  0.261830  0.200758 -0.016055   \n",
       "2011-05-24  0.001765  0.128318  0.172328  0.140720  0.271930  0.093119   \n",
       "2011-05-25  0.312864  0.026973  0.255904  0.175080  0.040714  0.101405   \n",
       "2011-05-26  0.040080  0.148261 -0.031762  0.075605  0.239397  0.115184   \n",
       "\n",
       "                9998      9999  \n",
       "2010-01-01  0.299998 -0.051990  \n",
       "2010-01-04 -0.145633  0.236530  \n",
       "2010-01-05  0.266941  0.182654  \n",
       "2010-01-06  0.128077  0.132403  \n",
       "2010-01-07  0.181580  0.070590  \n",
       "...              ...       ...  \n",
       "2011-05-20  0.095351  0.061193  \n",
       "2011-05-23  0.267519 -0.157346  \n",
       "2011-05-24  0.143636  0.005525  \n",
       "2011-05-25  0.197539  0.242237  \n",
       "2011-05-26  0.167512  0.159804  \n",
       "\n",
       "[365 rows x 10000 columns]"
      ]
     },
     "execution_count": 35,
     "metadata": {},
     "output_type": "execute_result"
    }
   ],
   "source": [
    "# Simular 10000 escenarios para todo el 2010\n",
    "ndays = 365\n",
    "nscen = 10000\n",
    "start_date = '01/01/2010'\n",
    "\n",
    "rend_simu_GSPC = sim_rend(mu_GSPC, std_GSPC, ndays, nscen, start_date)\n",
    "rend_simu_GSPC"
   ]
  },
  {
   "cell_type": "code",
   "execution_count": 36,
   "metadata": {},
   "outputs": [
    {
     "data": {
      "text/plain": [
       "<AxesSubplot:>"
      ]
     },
     "execution_count": 36,
     "metadata": {},
     "output_type": "execute_result"
    },
    {
     "data": {
      "image/png": "[encoded data removed]",
      "text/plain": [
       "<Figure size 1080x576 with 1 Axes>"
      ]
     },
     "metadata": {
      "needs_background": "light"
     },
     "output_type": "display_data"
    }
   ],
   "source": [
    "# Mostrar\n",
    "rend_simu_GSPC.iloc[:, 0].plot(figsize=(15,8), legend=False)"
   ]
  },
  {
   "cell_type": "code",
   "execution_count": 41,
   "metadata": {},
   "outputs": [
    {
     "data": {
      "text/html": [
       "<div>\n",
       "<style scoped>\n",
       "    .dataframe tbody tr th:only-of-type {\n",
       "        vertical-align: middle;\n",
       "    }\n",
       "\n",
       "    .dataframe tbody tr th {\n",
       "        vertical-align: top;\n",
       "    }\n",
       "\n",
       "    .dataframe thead th {\n",
       "        text-align: right;\n",
       "    }\n",
       "</style>\n",
       "<table border=\"1\" class=\"dataframe\">\n",
       "  <thead>\n",
       "    <tr style=\"text-align: right;\">\n",
       "      <th></th>\n",
       "      <th>0</th>\n",
       "      <th>1</th>\n",
       "      <th>2</th>\n",
       "      <th>3</th>\n",
       "      <th>4</th>\n",
       "      <th>5</th>\n",
       "      <th>6</th>\n",
       "      <th>7</th>\n",
       "      <th>8</th>\n",
       "      <th>9</th>\n",
       "      <th>...</th>\n",
       "      <th>9990</th>\n",
       "      <th>9991</th>\n",
       "      <th>9992</th>\n",
       "      <th>9993</th>\n",
       "      <th>9994</th>\n",
       "      <th>9995</th>\n",
       "      <th>9996</th>\n",
       "      <th>9997</th>\n",
       "      <th>9998</th>\n",
       "      <th>9999</th>\n",
       "    </tr>\n",
       "  </thead>\n",
       "  <tbody>\n",
       "    <tr>\n",
       "      <th>2010-01-01</th>\n",
       "      <td>4.496861e+03</td>\n",
       "      <td>5.336093e+03</td>\n",
       "      <td>4.733488e+03</td>\n",
       "      <td>3.458153e+03</td>\n",
       "      <td>4.690229e+03</td>\n",
       "      <td>5.366835e+03</td>\n",
       "      <td>3.897789e+03</td>\n",
       "      <td>5.459087e+03</td>\n",
       "      <td>4.506489e+03</td>\n",
       "      <td>4.584442e+03</td>\n",
       "      <td>...</td>\n",
       "      <td>3.863489e+03</td>\n",
       "      <td>4.598629e+03</td>\n",
       "      <td>4.529105e+03</td>\n",
       "      <td>4.415447e+03</td>\n",
       "      <td>3.941027e+03</td>\n",
       "      <td>4.693907e+03</td>\n",
       "      <td>4.176855e+03</td>\n",
       "      <td>4.234726e+03</td>\n",
       "      <td>5.153113e+03</td>\n",
       "      <td>3.757853e+03</td>\n",
       "    </tr>\n",
       "    <tr>\n",
       "      <th>2010-01-04</th>\n",
       "      <td>4.727929e+03</td>\n",
       "      <td>6.309405e+03</td>\n",
       "      <td>5.230064e+03</td>\n",
       "      <td>3.861311e+03</td>\n",
       "      <td>4.999596e+03</td>\n",
       "      <td>6.692420e+03</td>\n",
       "      <td>3.813438e+03</td>\n",
       "      <td>6.204623e+03</td>\n",
       "      <td>6.128101e+03</td>\n",
       "      <td>5.040177e+03</td>\n",
       "      <td>...</td>\n",
       "      <td>4.341391e+03</td>\n",
       "      <td>5.449834e+03</td>\n",
       "      <td>4.729370e+03</td>\n",
       "      <td>5.410502e+03</td>\n",
       "      <td>4.608810e+03</td>\n",
       "      <td>3.947665e+03</td>\n",
       "      <td>4.067800e+03</td>\n",
       "      <td>5.153662e+03</td>\n",
       "      <td>4.402651e+03</td>\n",
       "      <td>4.646700e+03</td>\n",
       "    </tr>\n",
       "    <tr>\n",
       "      <th>2010-01-05</th>\n",
       "      <td>5.705255e+03</td>\n",
       "      <td>9.581762e+03</td>\n",
       "      <td>5.412847e+03</td>\n",
       "      <td>4.642503e+03</td>\n",
       "      <td>5.730891e+03</td>\n",
       "      <td>7.067742e+03</td>\n",
       "      <td>5.185854e+03</td>\n",
       "      <td>6.013969e+03</td>\n",
       "      <td>6.446294e+03</td>\n",
       "      <td>6.204061e+03</td>\n",
       "      <td>...</td>\n",
       "      <td>3.690217e+03</td>\n",
       "      <td>6.120359e+03</td>\n",
       "      <td>4.166080e+03</td>\n",
       "      <td>4.867090e+03</td>\n",
       "      <td>4.615170e+03</td>\n",
       "      <td>4.185579e+03</td>\n",
       "      <td>3.859398e+03</td>\n",
       "      <td>7.064458e+03</td>\n",
       "      <td>5.577901e+03</td>\n",
       "      <td>5.495437e+03</td>\n",
       "    </tr>\n",
       "    <tr>\n",
       "      <th>2010-01-06</th>\n",
       "      <td>6.597389e+03</td>\n",
       "      <td>1.056189e+04</td>\n",
       "      <td>6.256734e+03</td>\n",
       "      <td>4.868855e+03</td>\n",
       "      <td>5.514814e+03</td>\n",
       "      <td>9.070027e+03</td>\n",
       "      <td>5.815857e+03</td>\n",
       "      <td>6.549419e+03</td>\n",
       "      <td>6.535602e+03</td>\n",
       "      <td>7.441276e+03</td>\n",
       "      <td>...</td>\n",
       "      <td>4.872289e+03</td>\n",
       "      <td>5.981291e+03</td>\n",
       "      <td>4.493663e+03</td>\n",
       "      <td>6.499221e+03</td>\n",
       "      <td>4.523097e+03</td>\n",
       "      <td>4.715763e+03</td>\n",
       "      <td>3.479538e+03</td>\n",
       "      <td>9.040348e+03</td>\n",
       "      <td>6.292299e+03</td>\n",
       "      <td>6.223047e+03</td>\n",
       "    </tr>\n",
       "    <tr>\n",
       "      <th>2010-01-07</th>\n",
       "      <td>8.036538e+03</td>\n",
       "      <td>9.197818e+03</td>\n",
       "      <td>8.917851e+03</td>\n",
       "      <td>6.865197e+03</td>\n",
       "      <td>5.617133e+03</td>\n",
       "      <td>1.109546e+04</td>\n",
       "      <td>6.636564e+03</td>\n",
       "      <td>5.597024e+03</td>\n",
       "      <td>7.235142e+03</td>\n",
       "      <td>7.804822e+03</td>\n",
       "      <td>...</td>\n",
       "      <td>5.185193e+03</td>\n",
       "      <td>7.030077e+03</td>\n",
       "      <td>5.297686e+03</td>\n",
       "      <td>8.469329e+03</td>\n",
       "      <td>5.697724e+03</td>\n",
       "      <td>5.973224e+03</td>\n",
       "      <td>4.331195e+03</td>\n",
       "      <td>1.068104e+04</td>\n",
       "      <td>7.434853e+03</td>\n",
       "      <td>6.662331e+03</td>\n",
       "    </tr>\n",
       "    <tr>\n",
       "      <th>...</th>\n",
       "      <td>...</td>\n",
       "      <td>...</td>\n",
       "      <td>...</td>\n",
       "      <td>...</td>\n",
       "      <td>...</td>\n",
       "      <td>...</td>\n",
       "      <td>...</td>\n",
       "      <td>...</td>\n",
       "      <td>...</td>\n",
       "      <td>...</td>\n",
       "      <td>...</td>\n",
       "      <td>...</td>\n",
       "      <td>...</td>\n",
       "      <td>...</td>\n",
       "      <td>...</td>\n",
       "      <td>...</td>\n",
       "      <td>...</td>\n",
       "      <td>...</td>\n",
       "      <td>...</td>\n",
       "      <td>...</td>\n",
       "      <td>...</td>\n",
       "    </tr>\n",
       "    <tr>\n",
       "      <th>2011-05-20</th>\n",
       "      <td>7.399848e+20</td>\n",
       "      <td>1.390011e+21</td>\n",
       "      <td>2.350773e+22</td>\n",
       "      <td>3.076972e+23</td>\n",
       "      <td>1.083152e+24</td>\n",
       "      <td>3.065904e+23</td>\n",
       "      <td>1.199307e+23</td>\n",
       "      <td>7.688452e+21</td>\n",
       "      <td>8.438649e+20</td>\n",
       "      <td>1.655490e+23</td>\n",
       "      <td>...</td>\n",
       "      <td>8.263947e+21</td>\n",
       "      <td>6.469070e+21</td>\n",
       "      <td>5.607781e+22</td>\n",
       "      <td>1.671660e+21</td>\n",
       "      <td>4.033715e+21</td>\n",
       "      <td>8.045096e+21</td>\n",
       "      <td>1.605949e+22</td>\n",
       "      <td>2.493917e+23</td>\n",
       "      <td>1.589544e+22</td>\n",
       "      <td>5.884274e+22</td>\n",
       "    </tr>\n",
       "    <tr>\n",
       "      <th>2011-05-23</th>\n",
       "      <td>8.797942e+20</td>\n",
       "      <td>1.725413e+21</td>\n",
       "      <td>2.953283e+22</td>\n",
       "      <td>3.578042e+23</td>\n",
       "      <td>1.147856e+24</td>\n",
       "      <td>3.502235e+23</td>\n",
       "      <td>1.531345e+23</td>\n",
       "      <td>9.380092e+21</td>\n",
       "      <td>9.499657e+20</td>\n",
       "      <td>2.286178e+23</td>\n",
       "      <td>...</td>\n",
       "      <td>9.365662e+21</td>\n",
       "      <td>6.507771e+21</td>\n",
       "      <td>6.208893e+22</td>\n",
       "      <td>1.932779e+21</td>\n",
       "      <td>4.066375e+21</td>\n",
       "      <td>1.015154e+22</td>\n",
       "      <td>1.928356e+22</td>\n",
       "      <td>2.453876e+23</td>\n",
       "      <td>2.014778e+22</td>\n",
       "      <td>4.958406e+22</td>\n",
       "    </tr>\n",
       "    <tr>\n",
       "      <th>2011-05-24</th>\n",
       "      <td>8.586733e+20</td>\n",
       "      <td>1.752399e+21</td>\n",
       "      <td>2.981110e+22</td>\n",
       "      <td>4.092478e+23</td>\n",
       "      <td>1.471612e+24</td>\n",
       "      <td>3.714304e+23</td>\n",
       "      <td>1.746301e+23</td>\n",
       "      <td>1.367423e+22</td>\n",
       "      <td>9.950497e+20</td>\n",
       "      <td>3.137893e+23</td>\n",
       "      <td>...</td>\n",
       "      <td>1.043273e+22</td>\n",
       "      <td>6.947593e+21</td>\n",
       "      <td>6.219849e+22</td>\n",
       "      <td>2.180789e+21</td>\n",
       "      <td>4.767126e+21</td>\n",
       "      <td>1.158007e+22</td>\n",
       "      <td>2.452734e+22</td>\n",
       "      <td>2.682379e+23</td>\n",
       "      <td>2.304173e+22</td>\n",
       "      <td>4.985803e+22</td>\n",
       "    </tr>\n",
       "    <tr>\n",
       "      <th>2011-05-25</th>\n",
       "      <td>1.122485e+21</td>\n",
       "      <td>1.757385e+21</td>\n",
       "      <td>3.438496e+22</td>\n",
       "      <td>4.703175e+23</td>\n",
       "      <td>1.663900e+24</td>\n",
       "      <td>4.283512e+23</td>\n",
       "      <td>1.779425e+23</td>\n",
       "      <td>1.718322e+22</td>\n",
       "      <td>1.184528e+21</td>\n",
       "      <td>3.330977e+23</td>\n",
       "      <td>...</td>\n",
       "      <td>9.979069e+21</td>\n",
       "      <td>8.284749e+21</td>\n",
       "      <td>8.165817e+22</td>\n",
       "      <td>2.239612e+21</td>\n",
       "      <td>5.987051e+21</td>\n",
       "      <td>1.360751e+22</td>\n",
       "      <td>2.552596e+22</td>\n",
       "      <td>2.954385e+23</td>\n",
       "      <td>2.759336e+22</td>\n",
       "      <td>6.193551e+22</td>\n",
       "    </tr>\n",
       "    <tr>\n",
       "      <th>2011-05-26</th>\n",
       "      <td>1.392753e+21</td>\n",
       "      <td>2.172563e+21</td>\n",
       "      <td>3.807354e+22</td>\n",
       "      <td>5.360357e+23</td>\n",
       "      <td>1.866891e+24</td>\n",
       "      <td>4.417970e+23</td>\n",
       "      <td>2.176784e+23</td>\n",
       "      <td>2.099675e+22</td>\n",
       "      <td>1.312860e+21</td>\n",
       "      <td>3.529104e+23</td>\n",
       "      <td>...</td>\n",
       "      <td>1.011005e+22</td>\n",
       "      <td>9.117324e+21</td>\n",
       "      <td>8.493102e+22</td>\n",
       "      <td>2.571659e+21</td>\n",
       "      <td>5.796892e+21</td>\n",
       "      <td>1.463631e+22</td>\n",
       "      <td>3.163679e+22</td>\n",
       "      <td>3.294684e+23</td>\n",
       "      <td>3.221558e+22</td>\n",
       "      <td>7.183302e+22</td>\n",
       "    </tr>\n",
       "  </tbody>\n",
       "</table>\n",
       "<p>365 rows × 10000 columns</p>\n",
       "</div>"
      ],
      "text/plain": [
       "                    0             1             2             3     \\\n",
       "2010-01-01  4.496861e+03  5.336093e+03  4.733488e+03  3.458153e+03   \n",
       "2010-01-04  4.727929e+03  6.309405e+03  5.230064e+03  3.861311e+03   \n",
       "2010-01-05  5.705255e+03  9.581762e+03  5.412847e+03  4.642503e+03   \n",
       "2010-01-06  6.597389e+03  1.056189e+04  6.256734e+03  4.868855e+03   \n",
       "2010-01-07  8.036538e+03  9.197818e+03  8.917851e+03  6.865197e+03   \n",
       "...                  ...           ...           ...           ...   \n",
       "2011-05-20  7.399848e+20  1.390011e+21  2.350773e+22  3.076972e+23   \n",
       "2011-05-23  8.797942e+20  1.725413e+21  2.953283e+22  3.578042e+23   \n",
       "2011-05-24  8.586733e+20  1.752399e+21  2.981110e+22  4.092478e+23   \n",
       "2011-05-25  1.122485e+21  1.757385e+21  3.438496e+22  4.703175e+23   \n",
       "2011-05-26  1.392753e+21  2.172563e+21  3.807354e+22  5.360357e+23   \n",
       "\n",
       "                    4             5             6             7     \\\n",
       "2010-01-01  4.690229e+03  5.366835e+03  3.897789e+03  5.459087e+03   \n",
       "2010-01-04  4.999596e+03  6.692420e+03  3.813438e+03  6.204623e+03   \n",
       "2010-01-05  5.730891e+03  7.067742e+03  5.185854e+03  6.013969e+03   \n",
       "2010-01-06  5.514814e+03  9.070027e+03  5.815857e+03  6.549419e+03   \n",
       "2010-01-07  5.617133e+03  1.109546e+04  6.636564e+03  5.597024e+03   \n",
       "...                  ...           ...           ...           ...   \n",
       "2011-05-20  1.083152e+24  3.065904e+23  1.199307e+23  7.688452e+21   \n",
       "2011-05-23  1.147856e+24  3.502235e+23  1.531345e+23  9.380092e+21   \n",
       "2011-05-24  1.471612e+24  3.714304e+23  1.746301e+23  1.367423e+22   \n",
       "2011-05-25  1.663900e+24  4.283512e+23  1.779425e+23  1.718322e+22   \n",
       "2011-05-26  1.866891e+24  4.417970e+23  2.176784e+23  2.099675e+22   \n",
       "\n",
       "                    8             9     ...          9990          9991  \\\n",
       "2010-01-01  4.506489e+03  4.584442e+03  ...  3.863489e+03  4.598629e+03   \n",
       "2010-01-04  6.128101e+03  5.040177e+03  ...  4.341391e+03  5.449834e+03   \n",
       "2010-01-05  6.446294e+03  6.204061e+03  ...  3.690217e+03  6.120359e+03   \n",
       "2010-01-06  6.535602e+03  7.441276e+03  ...  4.872289e+03  5.981291e+03   \n",
       "2010-01-07  7.235142e+03  7.804822e+03  ...  5.185193e+03  7.030077e+03   \n",
       "...                  ...           ...  ...           ...           ...   \n",
       "2011-05-20  8.438649e+20  1.655490e+23  ...  8.263947e+21  6.469070e+21   \n",
       "2011-05-23  9.499657e+20  2.286178e+23  ...  9.365662e+21  6.507771e+21   \n",
       "2011-05-24  9.950497e+20  3.137893e+23  ...  1.043273e+22  6.947593e+21   \n",
       "2011-05-25  1.184528e+21  3.330977e+23  ...  9.979069e+21  8.284749e+21   \n",
       "2011-05-26  1.312860e+21  3.529104e+23  ...  1.011005e+22  9.117324e+21   \n",
       "\n",
       "                    9992          9993          9994          9995  \\\n",
       "2010-01-01  4.529105e+03  4.415447e+03  3.941027e+03  4.693907e+03   \n",
       "2010-01-04  4.729370e+03  5.410502e+03  4.608810e+03  3.947665e+03   \n",
       "2010-01-05  4.166080e+03  4.867090e+03  4.615170e+03  4.185579e+03   \n",
       "2010-01-06  4.493663e+03  6.499221e+03  4.523097e+03  4.715763e+03   \n",
       "2010-01-07  5.297686e+03  8.469329e+03  5.697724e+03  5.973224e+03   \n",
       "...                  ...           ...           ...           ...   \n",
       "2011-05-20  5.607781e+22  1.671660e+21  4.033715e+21  8.045096e+21   \n",
       "2011-05-23  6.208893e+22  1.932779e+21  4.066375e+21  1.015154e+22   \n",
       "2011-05-24  6.219849e+22  2.180789e+21  4.767126e+21  1.158007e+22   \n",
       "2011-05-25  8.165817e+22  2.239612e+21  5.987051e+21  1.360751e+22   \n",
       "2011-05-26  8.493102e+22  2.571659e+21  5.796892e+21  1.463631e+22   \n",
       "\n",
       "                    9996          9997          9998          9999  \n",
       "2010-01-01  4.176855e+03  4.234726e+03  5.153113e+03  3.757853e+03  \n",
       "2010-01-04  4.067800e+03  5.153662e+03  4.402651e+03  4.646700e+03  \n",
       "2010-01-05  3.859398e+03  7.064458e+03  5.577901e+03  5.495437e+03  \n",
       "2010-01-06  3.479538e+03  9.040348e+03  6.292299e+03  6.223047e+03  \n",
       "2010-01-07  4.331195e+03  1.068104e+04  7.434853e+03  6.662331e+03  \n",
       "...                  ...           ...           ...           ...  \n",
       "2011-05-20  1.605949e+22  2.493917e+23  1.589544e+22  5.884274e+22  \n",
       "2011-05-23  1.928356e+22  2.453876e+23  2.014778e+22  4.958406e+22  \n",
       "2011-05-24  2.452734e+22  2.682379e+23  2.304173e+22  4.985803e+22  \n",
       "2011-05-25  2.552596e+22  2.954385e+23  2.759336e+22  6.193551e+22  \n",
       "2011-05-26  3.163679e+22  3.294684e+23  3.221558e+22  7.183302e+22  \n",
       "\n",
       "[365 rows x 10000 columns]"
      ]
     },
     "execution_count": 41,
     "metadata": {},
     "output_type": "execute_result"
    }
   ],
   "source": [
    "# Obtener los precios. Transformar los rendimientos simulados del 2010 a precios de acción simulados del 2010.\n",
    "precios_simulados_GSPC = precios[-1]*(1+rend_simu_GSPC).cumprod()\n",
    "precios_simulados_GSPC"
   ]
  },
  {
   "cell_type": "markdown",
   "metadata": {},
   "source": [
    "**Punto 6** (8 puntos) Calcular y graficar la probabilidad de que el precio del índice supere el rendimiento medio de los últimos 10 años que calculaste en el punto 4."
   ]
  },
  {
   "cell_type": "code",
   "execution_count": 43,
   "metadata": {},
   "outputs": [
    {
     "data": {
      "text/plain": [
       "DatetimeIndex(['2010-01-01', '2010-01-04', '2010-01-05', '2010-01-06',\n",
       "               '2010-01-07', '2010-01-08', '2010-01-11', '2010-01-12',\n",
       "               '2010-01-13', '2010-01-14',\n",
       "               ...\n",
       "               '2011-05-13', '2011-05-16', '2011-05-17', '2011-05-18',\n",
       "               '2011-05-19', '2011-05-20', '2011-05-23', '2011-05-24',\n",
       "               '2011-05-25', '2011-05-26'],\n",
       "              dtype='datetime64[ns]', length=365, freq='B')"
      ]
     },
     "execution_count": 43,
     "metadata": {},
     "output_type": "execute_result"
    }
   ],
   "source": [
    "# Umbral de 110% del último precio\n",
    "umbral = (1 + 0.1)*(precios[-1])\n",
    "\n",
    "# Fechas\n",
    "dates = precios_simulados_GSPC.index \n",
    "dates"
   ]
  },
  {
   "cell_type": "code",
   "execution_count": 44,
   "metadata": {},
   "outputs": [
    {
     "data": {
      "text/html": [
       "<div>\n",
       "<style scoped>\n",
       "    .dataframe tbody tr th:only-of-type {\n",
       "        vertical-align: middle;\n",
       "    }\n",
       "\n",
       "    .dataframe tbody tr th {\n",
       "        vertical-align: top;\n",
       "    }\n",
       "\n",
       "    .dataframe thead th {\n",
       "        text-align: right;\n",
       "    }\n",
       "</style>\n",
       "<table border=\"1\" class=\"dataframe\">\n",
       "  <thead>\n",
       "    <tr style=\"text-align: right;\">\n",
       "      <th></th>\n",
       "      <th>0</th>\n",
       "      <th>1</th>\n",
       "      <th>2</th>\n",
       "      <th>3</th>\n",
       "      <th>4</th>\n",
       "      <th>5</th>\n",
       "      <th>6</th>\n",
       "      <th>7</th>\n",
       "      <th>8</th>\n",
       "      <th>9</th>\n",
       "      <th>...</th>\n",
       "      <th>9990</th>\n",
       "      <th>9991</th>\n",
       "      <th>9992</th>\n",
       "      <th>9993</th>\n",
       "      <th>9994</th>\n",
       "      <th>9995</th>\n",
       "      <th>9996</th>\n",
       "      <th>9997</th>\n",
       "      <th>9998</th>\n",
       "      <th>9999</th>\n",
       "    </tr>\n",
       "  </thead>\n",
       "  <tbody>\n",
       "    <tr>\n",
       "      <th>2010-01-01</th>\n",
       "      <td>True</td>\n",
       "      <td>True</td>\n",
       "      <td>True</td>\n",
       "      <td>False</td>\n",
       "      <td>True</td>\n",
       "      <td>True</td>\n",
       "      <td>False</td>\n",
       "      <td>True</td>\n",
       "      <td>True</td>\n",
       "      <td>True</td>\n",
       "      <td>...</td>\n",
       "      <td>False</td>\n",
       "      <td>True</td>\n",
       "      <td>True</td>\n",
       "      <td>True</td>\n",
       "      <td>False</td>\n",
       "      <td>True</td>\n",
       "      <td>False</td>\n",
       "      <td>False</td>\n",
       "      <td>True</td>\n",
       "      <td>False</td>\n",
       "    </tr>\n",
       "    <tr>\n",
       "      <th>2010-01-04</th>\n",
       "      <td>True</td>\n",
       "      <td>True</td>\n",
       "      <td>True</td>\n",
       "      <td>False</td>\n",
       "      <td>True</td>\n",
       "      <td>True</td>\n",
       "      <td>False</td>\n",
       "      <td>True</td>\n",
       "      <td>True</td>\n",
       "      <td>True</td>\n",
       "      <td>...</td>\n",
       "      <td>False</td>\n",
       "      <td>True</td>\n",
       "      <td>True</td>\n",
       "      <td>True</td>\n",
       "      <td>True</td>\n",
       "      <td>False</td>\n",
       "      <td>False</td>\n",
       "      <td>True</td>\n",
       "      <td>True</td>\n",
       "      <td>True</td>\n",
       "    </tr>\n",
       "    <tr>\n",
       "      <th>2010-01-05</th>\n",
       "      <td>True</td>\n",
       "      <td>True</td>\n",
       "      <td>True</td>\n",
       "      <td>True</td>\n",
       "      <td>True</td>\n",
       "      <td>True</td>\n",
       "      <td>True</td>\n",
       "      <td>True</td>\n",
       "      <td>True</td>\n",
       "      <td>True</td>\n",
       "      <td>...</td>\n",
       "      <td>False</td>\n",
       "      <td>True</td>\n",
       "      <td>False</td>\n",
       "      <td>True</td>\n",
       "      <td>True</td>\n",
       "      <td>False</td>\n",
       "      <td>False</td>\n",
       "      <td>True</td>\n",
       "      <td>True</td>\n",
       "      <td>True</td>\n",
       "    </tr>\n",
       "    <tr>\n",
       "      <th>2010-01-06</th>\n",
       "      <td>True</td>\n",
       "      <td>True</td>\n",
       "      <td>True</td>\n",
       "      <td>True</td>\n",
       "      <td>True</td>\n",
       "      <td>True</td>\n",
       "      <td>True</td>\n",
       "      <td>True</td>\n",
       "      <td>True</td>\n",
       "      <td>True</td>\n",
       "      <td>...</td>\n",
       "      <td>True</td>\n",
       "      <td>True</td>\n",
       "      <td>True</td>\n",
       "      <td>True</td>\n",
       "      <td>True</td>\n",
       "      <td>True</td>\n",
       "      <td>False</td>\n",
       "      <td>True</td>\n",
       "      <td>True</td>\n",
       "      <td>True</td>\n",
       "    </tr>\n",
       "    <tr>\n",
       "      <th>2010-01-07</th>\n",
       "      <td>True</td>\n",
       "      <td>True</td>\n",
       "      <td>True</td>\n",
       "      <td>True</td>\n",
       "      <td>True</td>\n",
       "      <td>True</td>\n",
       "      <td>True</td>\n",
       "      <td>True</td>\n",
       "      <td>True</td>\n",
       "      <td>True</td>\n",
       "      <td>...</td>\n",
       "      <td>True</td>\n",
       "      <td>True</td>\n",
       "      <td>True</td>\n",
       "      <td>True</td>\n",
       "      <td>True</td>\n",
       "      <td>True</td>\n",
       "      <td>False</td>\n",
       "      <td>True</td>\n",
       "      <td>True</td>\n",
       "      <td>True</td>\n",
       "    </tr>\n",
       "    <tr>\n",
       "      <th>...</th>\n",
       "      <td>...</td>\n",
       "      <td>...</td>\n",
       "      <td>...</td>\n",
       "      <td>...</td>\n",
       "      <td>...</td>\n",
       "      <td>...</td>\n",
       "      <td>...</td>\n",
       "      <td>...</td>\n",
       "      <td>...</td>\n",
       "      <td>...</td>\n",
       "      <td>...</td>\n",
       "      <td>...</td>\n",
       "      <td>...</td>\n",
       "      <td>...</td>\n",
       "      <td>...</td>\n",
       "      <td>...</td>\n",
       "      <td>...</td>\n",
       "      <td>...</td>\n",
       "      <td>...</td>\n",
       "      <td>...</td>\n",
       "      <td>...</td>\n",
       "    </tr>\n",
       "    <tr>\n",
       "      <th>2011-05-20</th>\n",
       "      <td>True</td>\n",
       "      <td>True</td>\n",
       "      <td>True</td>\n",
       "      <td>True</td>\n",
       "      <td>True</td>\n",
       "      <td>True</td>\n",
       "      <td>True</td>\n",
       "      <td>True</td>\n",
       "      <td>True</td>\n",
       "      <td>True</td>\n",
       "      <td>...</td>\n",
       "      <td>True</td>\n",
       "      <td>True</td>\n",
       "      <td>True</td>\n",
       "      <td>True</td>\n",
       "      <td>True</td>\n",
       "      <td>True</td>\n",
       "      <td>True</td>\n",
       "      <td>True</td>\n",
       "      <td>True</td>\n",
       "      <td>True</td>\n",
       "    </tr>\n",
       "    <tr>\n",
       "      <th>2011-05-23</th>\n",
       "      <td>True</td>\n",
       "      <td>True</td>\n",
       "      <td>True</td>\n",
       "      <td>True</td>\n",
       "      <td>True</td>\n",
       "      <td>True</td>\n",
       "      <td>True</td>\n",
       "      <td>True</td>\n",
       "      <td>True</td>\n",
       "      <td>True</td>\n",
       "      <td>...</td>\n",
       "      <td>True</td>\n",
       "      <td>True</td>\n",
       "      <td>True</td>\n",
       "      <td>True</td>\n",
       "      <td>True</td>\n",
       "      <td>True</td>\n",
       "      <td>True</td>\n",
       "      <td>True</td>\n",
       "      <td>True</td>\n",
       "      <td>True</td>\n",
       "    </tr>\n",
       "    <tr>\n",
       "      <th>2011-05-24</th>\n",
       "      <td>True</td>\n",
       "      <td>True</td>\n",
       "      <td>True</td>\n",
       "      <td>True</td>\n",
       "      <td>True</td>\n",
       "      <td>True</td>\n",
       "      <td>True</td>\n",
       "      <td>True</td>\n",
       "      <td>True</td>\n",
       "      <td>True</td>\n",
       "      <td>...</td>\n",
       "      <td>True</td>\n",
       "      <td>True</td>\n",
       "      <td>True</td>\n",
       "      <td>True</td>\n",
       "      <td>True</td>\n",
       "      <td>True</td>\n",
       "      <td>True</td>\n",
       "      <td>True</td>\n",
       "      <td>True</td>\n",
       "      <td>True</td>\n",
       "    </tr>\n",
       "    <tr>\n",
       "      <th>2011-05-25</th>\n",
       "      <td>True</td>\n",
       "      <td>True</td>\n",
       "      <td>True</td>\n",
       "      <td>True</td>\n",
       "      <td>True</td>\n",
       "      <td>True</td>\n",
       "      <td>True</td>\n",
       "      <td>True</td>\n",
       "      <td>True</td>\n",
       "      <td>True</td>\n",
       "      <td>...</td>\n",
       "      <td>True</td>\n",
       "      <td>True</td>\n",
       "      <td>True</td>\n",
       "      <td>True</td>\n",
       "      <td>True</td>\n",
       "      <td>True</td>\n",
       "      <td>True</td>\n",
       "      <td>True</td>\n",
       "      <td>True</td>\n",
       "      <td>True</td>\n",
       "    </tr>\n",
       "    <tr>\n",
       "      <th>2011-05-26</th>\n",
       "      <td>True</td>\n",
       "      <td>True</td>\n",
       "      <td>True</td>\n",
       "      <td>True</td>\n",
       "      <td>True</td>\n",
       "      <td>True</td>\n",
       "      <td>True</td>\n",
       "      <td>True</td>\n",
       "      <td>True</td>\n",
       "      <td>True</td>\n",
       "      <td>...</td>\n",
       "      <td>True</td>\n",
       "      <td>True</td>\n",
       "      <td>True</td>\n",
       "      <td>True</td>\n",
       "      <td>True</td>\n",
       "      <td>True</td>\n",
       "      <td>True</td>\n",
       "      <td>True</td>\n",
       "      <td>True</td>\n",
       "      <td>True</td>\n",
       "    </tr>\n",
       "  </tbody>\n",
       "</table>\n",
       "<p>365 rows × 10000 columns</p>\n",
       "</div>"
      ],
      "text/plain": [
       "            0     1     2      3     4     5      6     7     8     9     ...  \\\n",
       "2010-01-01  True  True  True  False  True  True  False  True  True  True  ...   \n",
       "2010-01-04  True  True  True  False  True  True  False  True  True  True  ...   \n",
       "2010-01-05  True  True  True   True  True  True   True  True  True  True  ...   \n",
       "2010-01-06  True  True  True   True  True  True   True  True  True  True  ...   \n",
       "2010-01-07  True  True  True   True  True  True   True  True  True  True  ...   \n",
       "...          ...   ...   ...    ...   ...   ...    ...   ...   ...   ...  ...   \n",
       "2011-05-20  True  True  True   True  True  True   True  True  True  True  ...   \n",
       "2011-05-23  True  True  True   True  True  True   True  True  True  True  ...   \n",
       "2011-05-24  True  True  True   True  True  True   True  True  True  True  ...   \n",
       "2011-05-25  True  True  True   True  True  True   True  True  True  True  ...   \n",
       "2011-05-26  True  True  True   True  True  True   True  True  True  True  ...   \n",
       "\n",
       "             9990  9991   9992  9993   9994   9995   9996   9997  9998   9999  \n",
       "2010-01-01  False  True   True  True  False   True  False  False  True  False  \n",
       "2010-01-04  False  True   True  True   True  False  False   True  True   True  \n",
       "2010-01-05  False  True  False  True   True  False  False   True  True   True  \n",
       "2010-01-06   True  True   True  True   True   True  False   True  True   True  \n",
       "2010-01-07   True  True   True  True   True   True  False   True  True   True  \n",
       "...           ...   ...    ...   ...    ...    ...    ...    ...   ...    ...  \n",
       "2011-05-20   True  True   True  True   True   True   True   True  True   True  \n",
       "2011-05-23   True  True   True  True   True   True   True   True  True   True  \n",
       "2011-05-24   True  True   True  True   True   True   True   True  True   True  \n",
       "2011-05-25   True  True   True  True   True   True   True   True  True   True  \n",
       "2011-05-26   True  True   True  True   True   True   True   True  True   True  \n",
       "\n",
       "[365 rows x 10000 columns]"
      ]
     },
     "execution_count": 44,
     "metadata": {},
     "output_type": "execute_result"
    }
   ],
   "source": [
    "TF = precios_simulados_GSPC>=umbral\n",
    "TF"
   ]
  },
  {
   "cell_type": "code",
   "execution_count": 45,
   "metadata": {},
   "outputs": [
    {
     "data": {
      "text/plain": [
       "<AxesSubplot:>"
      ]
     },
     "execution_count": 45,
     "metadata": {},
     "output_type": "execute_result"
    },
    {
     "data": {
      "image/png": "[encoded data removed]",
      "text/plain": [
       "<Figure size 1080x576 with 1 Axes>"
      ]
     },
     "metadata": {
      "needs_background": "light"
     },
     "output_type": "display_data"
    }
   ],
   "source": [
    "# Comparar cada escenario en cada fecha\n",
    "TF = precios_simulados_GSPC>=umbral\n",
    "\n",
    "# Sumamos para cada fecha y dividimos entre el número de escenarios\n",
    "prob = TF.sum(axis=1)/nscen\n",
    "\n",
    "# Gráfico de probabilidad\n",
    "prob.plot(figsize=(15, 8), legend=False)"
   ]
  },
  {
   "cell_type": "markdown",
   "metadata": {},
   "source": [
    "**Conclusión:** Puesto a que el gráfico de probabilidad es creciente se prevee que efectivamente en algún momento supere el precio umbral (probabilidad 1)."
   ]
  },
  {
   "cell_type": "markdown",
   "metadata": {},
   "source": [
    "___\n",
    "## III. Ecuaciones diferenciales - Comparación de solución simbólica y solución numérica de la ecuación diferencial de Euler (33 puntos)"
   ]
  },
  {
   "cell_type": "markdown",
   "metadata": {},
   "source": [
    "Considere la ecuación diferencial:\n",
    "\n",
    "$$\n",
    "x^2 \\frac{d^2 y}{d x^2} + 2 x \\frac{d y}{d x} - 2 x = 0; \\quad y(1) = 0, \\quad \\left.\\frac{dy}{dx}\\right|_{x=1} = 1.\n",
    "$$"
   ]
  },
  {
   "cell_type": "markdown",
   "metadata": {},
   "source": [
    "**Punto 1** (10 puntos) Resolver la ecuación diferencial de manera simbólica usando `sympy`, y usar las condiciones iniciales para encontrar el valor de las constantes."
   ]
  },
  {
   "cell_type": "code",
   "execution_count": 26,
   "metadata": {},
   "outputs": [],
   "source": [
    "# Importar sympy\n",
    "import sympy as sym\n",
    "from sympy.core.symbol import symbols\n",
    "\n",
    "# Imprimir en notación matemática\n",
    "sym.init_printing(use_latex='mathjax')"
   ]
  },
  {
   "cell_type": "code",
   "execution_count": 27,
   "metadata": {},
   "outputs": [
    {
     "data": {
      "text/latex": [
       "$\\displaystyle x^{2} \\frac{d^{2}}{d x^{2}} y{\\left(x \\right)} + 2 x \\frac{d}{d x} y{\\left(x \\right)} - 2 x = 0$"
      ],
      "text/plain": [
       "     2                               \n",
       " 2  d              d                 \n",
       "x ⋅───(y(x)) + 2⋅x⋅──(y(x)) - 2⋅x = 0\n",
       "     2             dx                \n",
       "   dx                                "
      ]
     },
     "metadata": {},
     "output_type": "display_data"
    }
   ],
   "source": [
    "# Definir variables\n",
    "sym.var('x', real=True, positive=True)\n",
    "y = sym.Function ('y')\n",
    "\n",
    "# Escribir la ecuacion diferencial\n",
    "de = sym.Eq(x**2*y(x).diff(x,2) + 2*x*y(x).diff(x)-2*x, 0)\n",
    "display(de)"
   ]
  },
  {
   "cell_type": "code",
   "execution_count": 28,
   "metadata": {},
   "outputs": [
    {
     "data": {
      "text/latex": [
       "$\\displaystyle y{\\left(x \\right)} = C_{1} + \\frac{C_{2}}{x} + x$"
      ],
      "text/plain": [
       "            C₂    \n",
       "y(x) = C₁ + ── + x\n",
       "            x     "
      ]
     },
     "execution_count": 28,
     "metadata": {},
     "output_type": "execute_result"
    }
   ],
   "source": [
    "sym.dsolve(de)"
   ]
  },
  {
   "cell_type": "code",
   "execution_count": 33,
   "metadata": {},
   "outputs": [],
   "source": [
    "I_Con = {y(1):0, y(x).diff(x).subs(x, 1):1}"
   ]
  },
  {
   "cell_type": "code",
   "execution_count": 34,
   "metadata": {},
   "outputs": [
    {
     "data": {
      "text/latex": [
       "$\\displaystyle y{\\left(x \\right)} = x - 1$"
      ],
      "text/plain": [
       "y(x) = x - 1"
      ]
     },
     "execution_count": 34,
     "metadata": {},
     "output_type": "execute_result"
    }
   ],
   "source": [
    "sym.dsolve(de, y(x), ics = I_Con)"
   ]
  },
  {
   "cell_type": "markdown",
   "metadata": {},
   "source": [
    "**Punto 2** (3 puntos) Definir en python la función $y_{ex}(x)$ de la solución exacta de la ecuación diferencial encontrada en el punto 1."
   ]
  },
  {
   "cell_type": "code",
   "execution_count": 35,
   "metadata": {},
   "outputs": [],
   "source": [
    "def y_ex (x):\n",
    "    yex = x-1\n",
    "    return yex"
   ]
  },
  {
   "cell_type": "markdown",
   "metadata": {},
   "source": [
    "**Punto 3** (10 puntos) Resolver la ecuación diferencial de forma numérica, y graficar la solución exacta y la numérica en un mismo gráfico."
   ]
  },
  {
   "cell_type": "code",
   "execution_count": 36,
   "metadata": {},
   "outputs": [],
   "source": [
    "# Importar librerías\n",
    "import numpy as np\n",
    "from scipy.integrate import solve_ivp, odeint\n",
    "\n",
    "import matplotlib.pyplot as plt\n",
    "%matplotlib inline"
   ]
  },
  {
   "cell_type": "code",
   "execution_count": 37,
   "metadata": {},
   "outputs": [],
   "source": [
    "def de2(x,arreglo):\n",
    "    return np.asarray([arreglo[1], 2*arreglo[1]/x-2/x])"
   ]
  },
  {
   "cell_type": "code",
   "execution_count": 38,
   "metadata": {},
   "outputs": [],
   "source": [
    "# Definir condiciones iniciales\n",
    "xspan = [1, 5] #Rango \n",
    "y1=0 \n",
    "m1=1 \n",
    "Vin = np.array([y1,m1]) #Valores iniciales"
   ]
  },
  {
   "cell_type": "code",
   "execution_count": 39,
   "metadata": {},
   "outputs": [],
   "source": [
    "sol_num = solve_ivp(de2, xspan, Vin, max_step=0.1)"
   ]
  },
  {
   "cell_type": "code",
   "execution_count": 111,
   "metadata": {},
   "outputs": [
    {
     "data": {
      "image/png": "[encoded data removed]",
      "text/plain": [
       "<Figure size 576x432 with 1 Axes>"
      ]
     },
     "metadata": {
      "needs_background": "light"
     },
     "output_type": "display_data"
    }
   ],
   "source": [
    "# Graficar solución numérica\n",
    "plt.figure()\n",
    "plt.plot(sol_num.t, sol_num.y[0, :], 'c', label=\"y(x)\")\n",
    "plt.plot(sol_num.t, sol_num.y[1, :], label=\"y'(x)\")\n",
    "plt.legend(loc=\"best\")\n",
    "plt.xlabel(\"x\")\n",
    "plt.ylabel(\"y\")\n",
    "plt.rcParams[\"figure.figsize\"] = (8, 6)\n",
    "plt.grid()"
   ]
  },
  {
   "cell_type": "code",
   "execution_count": 110,
   "metadata": {},
   "outputs": [
    {
     "data": {
      "image/png": "[encoded data removed]",
      "text/plain": [
       "<Figure size 576x432 with 1 Axes>"
      ]
     },
     "metadata": {
      "needs_background": "light"
     },
     "output_type": "display_data"
    }
   ],
   "source": [
    "# Graficar solución exacta \n",
    "x = np.linspace(1,5,10)\n",
    "plt.figure(figsize=(8,6))\n",
    "plt.plot(x, y_ex(x), 'k')\n",
    "plt.grid()\n",
    "plt.xlabel('x')\n",
    "plt.ylabel('y')\n",
    "plt.show()"
   ]
  },
  {
   "cell_type": "code",
   "execution_count": 109,
   "metadata": {},
   "outputs": [
    {
     "data": {
      "text/plain": [
       "Text(0, 0.5, '$y$')"
      ]
     },
     "execution_count": 109,
     "metadata": {},
     "output_type": "execute_result"
    },
    {
     "data": {
      "image/png": "[encoded data removed]",
      "text/plain": [
       "<Figure size 1080x720 with 1 Axes>"
      ]
     },
     "metadata": {
      "needs_background": "light"
     },
     "output_type": "display_data"
    }
   ],
   "source": [
    "# Mostrar ambas soluciones en un solo gráfico\n",
    "plt.figure(figsize=(15,10))\n",
    "plt.plot(x, y_ex(x), 'k',label = 'solución exacta')\n",
    "plt.plot(sol_num.t, sol_num.y[0, :], 'c--', label = 'solución numérica')\n",
    "plt.grid()\n",
    "plt.legend()\n",
    "plt.xlabel('$x$')\n",
    "plt.ylabel('$y$')"
   ]
  },
  {
   "cell_type": "markdown",
   "metadata": {},
   "source": [
    "**Punto 4** (10 puntos) ¿Qué pasa con la solución de la ecuación diferencial cuando $x$ tiende a $\\infty$ (infinito)?"
   ]
  },
  {
   "cell_type": "markdown",
   "metadata": {},
   "source": [
    "**Conclusión:** De acuerdo con la gráfica arrojada en donde se incluye tanto la solución analítica como la solución numérica, cuando $x$ tiende a infinito, $y$ también tiende a infinito y por ende la solución de la ecuación continuará incrementando hacia el infinito positivo."
   ]
  },
  {
   "cell_type": "markdown",
   "metadata": {},
   "source": [
    "<script>\n",
    "  $(document).ready(function(){\n",
    "    $('div.prompt').hide();\n",
    "    $('div.back-to-top').hide();\n",
    "    $('nav#menubar').hide();\n",
    "    $('.breadcrumb').hide();\n",
    "    $('.hidden-print').hide();\n",
    "  });\n",
    "</script>\n",
    "\n",
    "<footer id=\"attribution\" style=\"float:right; color:#808080; background:#fff;\">\n",
    "Created with Jupyter by Esteban Jiménez Rodríguez.\n",
    "</footer>"
   ]
  }
 ],
 "metadata": {
  "kernelspec": {
   "display_name": "Python 3 (ipykernel)",
   "language": "python",
   "name": "python3"
  },
  "language_info": {
   "codemirror_mode": {
    "name": "ipython",
    "version": 3
   },
   "file_extension": ".py",
   "mimetype": "text/x-python",
   "name": "python",
   "nbconvert_exporter": "python",
   "pygments_lexer": "ipython3",
   "version": "3.9.12"
  }
 },
 "nbformat": 4,
 "nbformat_minor": 2
}
